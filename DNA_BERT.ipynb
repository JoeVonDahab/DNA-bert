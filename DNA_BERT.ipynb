{
 "cells": [
  {
   "cell_type": "markdown",
   "metadata": {},
   "source": [
    "## Import the model"
   ]
  },
  {
   "cell_type": "code",
   "execution_count": null,
   "metadata": {},
   "outputs": [
    {
     "name": "stderr",
     "output_type": "stream",
     "text": [
      "/home/youss/DNA-bert/dna_env/lib/python3.12/site-packages/tqdm/auto.py:21: TqdmWarning: IProgress not found. Please update jupyter and ipywidgets. See https://ipywidgets.readthedocs.io/en/stable/user_install.html\n",
      "  from .autonotebook import tqdm as notebook_tqdm\n"
     ]
    },
    {
     "name": "stdout",
     "output_type": "stream",
     "text": [
      "Using device: cuda\n"
     ]
    },
    {
     "name": "stderr",
     "output_type": "stream",
     "text": [
      "/home/youss/.cache/huggingface/modules/transformers_modules/zhihan1996/DNABERT-2-117M/d064dece8a8b41d9fb8729fbe3435278786931f1/bert_layers.py:126: UserWarning: Unable to import Triton; defaulting MosaicBERT attention implementation to pytorch (this will reduce throughput when using this model).\n",
      "  warnings.warn(\n",
      "Some weights of BertModel were not initialized from the model checkpoint at zhihan1996/DNABERT-2-117M and are newly initialized: ['pooler.dense.bias', 'pooler.dense.weight']\n",
      "You should probably TRAIN this model on a down-stream task to be able to use it for predictions and inference.\n"
     ]
    },
    {
     "name": "stdout",
     "output_type": "stream",
     "text": [
      "Mean pooling embedding shape: torch.Size([768])\n",
      "Max pooling embedding shape: torch.Size([768])\n",
      "\n",
      "Processed 3 sequences successfully!\n"
     ]
    }
   ],
   "source": [
    "\n",
    "\n",
    "# Import necessary libraries\n",
    "import torch\n",
    "from transformers import AutoTokenizer, AutoModel\n",
    "\n",
    "# Check if CUDA is available\n",
    "device = torch.device('cuda' if torch.cuda.is_available() else 'cpu')\n",
    "print(f\"Using device: {device}\")\n",
    "\n",
    "# Load the model and tokenizer\n",
    "def load_dnabert():\n",
    "    try:\n",
    "        # For transformers version 4.28\n",
    "        tokenizer = AutoTokenizer.from_pretrained(\"zhihan1996/DNABERT-2-117M\", trust_remote_code=True)\n",
    "        model = AutoModel.from_pretrained(\"zhihan1996/DNABERT-2-117M\", trust_remote_code=True)\n",
    "    except:\n",
    "        # For transformers version > 4.28\n",
    "        from transformers.models.bert.configuration_bert import BertConfig\n",
    "        config = BertConfig.from_pretrained(\"zhihan1996/DNABERT-2-117M\")\n",
    "        tokenizer = AutoTokenizer.from_pretrained(\"zhihan1996/DNABERT-2-117M\", trust_remote_code=True)\n",
    "        model = AutoModel.from_pretrained(\"zhihan1996/DNABERT-2-117M\", trust_remote_code=True, config=config)\n",
    "    \n",
    "    model = model.to(device)\n",
    "    return tokenizer, model\n",
    "\n",
    "tokenizer, model = load_dnabert()\n",
    "\n",
    "# Function to get embeddings for a DNA sequence\n",
    "def get_dna_embeddings(sequence, model, tokenizer):\n",
    "    # Tokenize the sequence\n",
    "    inputs = tokenizer(sequence, return_tensors='pt')\n",
    "    inputs = {k: v.to(device) for k, v in inputs.items()}\n",
    "    \n",
    "    # Get model outputs\n",
    "    with torch.no_grad():\n",
    "        outputs = model(inputs['input_ids'])\n",
    "    hidden_states = outputs[0]\n",
    "    \n",
    "    # Calculate embeddings using both pooling methods\n",
    "    embedding_mean = torch.mean(hidden_states[0], dim=0)\n",
    "    embedding_max = torch.max(hidden_states[0], dim=0)[0]\n",
    "    \n",
    "    return embedding_mean, embedding_max\n",
    "\n",
    "# Test the model with an example sequence\n",
    "example_dna = \"ACGTAGCATCGGATCTATCTATCGACACTTGGTTATCGATCTACGAGCATCTCGTTAGC\"\n",
    "emb_mean, emb_max = get_dna_embeddings(example_dna, model, tokenizer)\n",
    "\n",
    "print(\"Mean pooling embedding shape:\", emb_mean.shape)\n",
    "print(\"Max pooling embedding shape:\", emb_max.shape)\n",
    "\n",
    "# Example of how to use the embeddings for multiple sequences\n",
    "def process_multiple_sequences(sequences):\n",
    "    results = []\n",
    "    for seq in sequences:\n",
    "        emb_mean, emb_max = get_dna_embeddings(seq, model, tokenizer)\n",
    "        results.append({\n",
    "            'sequence': seq,\n",
    "            'mean_embedding': emb_mean.cpu().numpy(),\n",
    "            'max_embedding': emb_max.cpu().numpy()\n",
    "        })\n",
    "    return results\n",
    "\n",
    "# Test with multiple sequences\n",
    "test_sequences = [\n",
    "    \"ACGTAGCATCGGAT\",\n",
    "    \"TCTATCTATCGACA\",\n",
    "    \"CTTGGTTATCGATC\"\n",
    "]\n",
    "\n",
    "results = process_multiple_sequences(test_sequences)\n",
    "print(f\"\\nProcessed {len(results)} sequences successfully!\")"
   ]
  },
  {
   "cell_type": "code",
   "execution_count": 2,
   "metadata": {},
   "outputs": [
    {
     "name": "stdout",
     "output_type": "stream",
     "text": [
      "Generated a DNA sequence of length: 1000\n",
      "\n",
      "Inference for 1000 bases took: 0.1079 seconds\n",
      "Mean pooling embedding shape: torch.Size([768])\n",
      "Max pooling embedding shape: torch.Size([768])\n"
     ]
    }
   ],
   "source": [
    "# %% cell 3 code\n",
    "import time\n",
    "import random\n",
    "\n",
    "# Generate a large random DNA sequence (1000 bases)\n",
    "bases = ['A', 'C', 'G', 'T']\n",
    "large_dna_sequence = \"\".join(random.choice(bases) for _ in range(1000))\n",
    "print(f\"Generated a DNA sequence of length: {len(large_dna_sequence)}\")\n",
    "\n",
    "# Measure inference time\n",
    "start_time = time.time()\n",
    "emb_mean_large, emb_max_large = get_dna_embeddings(large_dna_sequence, model, tokenizer)\n",
    "end_time = time.time()\n",
    "\n",
    "duration = end_time - start_time\n",
    "\n",
    "print(f\"\\nInference for {len(large_dna_sequence)} bases took: {duration:.4f} seconds\")\n",
    "print(\"Mean pooling embedding shape:\", emb_mean_large.shape)\n",
    "print(\"Max pooling embedding shape:\", emb_max_large.shape)\n"
   ]
  },
  {
   "cell_type": "code",
   "execution_count": 4,
   "metadata": {},
   "outputs": [
    {
     "name": "stdout",
     "output_type": "stream",
     "text": [
      "DataFrame Head:\n",
      "   #chr        pos variation variant_type   snp_id clinical_significance  \\\n",
      "0     2  227685293       A>G          snv  1055957                normal   \n",
      "1     2  227685293       A>G          snv  1055957                benign   \n",
      "2     2  227685434       G>A          snv  1134281                normal   \n",
      "3     2  227685434       G>A          snv  1134281                benign   \n",
      "4     2  227685423       C>A          snv  1134282                normal   \n",
      "\n",
      "                 validation_status       function_class     gene  \\\n",
      "0  by-frequency;by-alfa;by-cluster  3_prime_UTR_variant  SLC19A3   \n",
      "1  by-frequency;by-alfa;by-cluster  3_prime_UTR_variant  SLC19A3   \n",
      "2  by-frequency;by-alfa;by-cluster  3_prime_UTR_variant  SLC19A3   \n",
      "3  by-frequency;by-alfa;by-cluster  3_prime_UTR_variant  SLC19A3   \n",
      "4  by-frequency;by-alfa;by-cluster  3_prime_UTR_variant  SLC19A3   \n",
      "\n",
      "                                           frequency UnifiedLabel  \\\n",
      "0  G:0.044816:224:1000Genomes|G:0.035339:4954:Gno...       benign   \n",
      "1  G:0.044816:224:1000Genomes|G:0.035339:4954:Gno...       benign   \n",
      "2  A:0.095409:478:1000Genomes|A:0.012714:49:ALSPA...       benign   \n",
      "3  A:0.095409:478:1000Genomes|A:0.012714:49:ALSPA...       benign   \n",
      "4  A:0.095409:478:1000Genomes|A:0.012714:49:ALSPA...       benign   \n",
      "\n",
      "                                            sequence  ContinuousLabel  \n",
      "0  TGCCACCACACCTGGCTAATTTTTGTATTTTTAGTAGAGATGGGGT...                3  \n",
      "1  TGCCACCACACCTGGCTAATTTTTGTATTTTTAGTAGAGATGGGGT...                2  \n",
      "2  CGCCCAGCCATAGGATTATGTCTCTTTTATGTTTGTTTGTTTTCTT...                3  \n",
      "3  CGCCCAGCCATAGGATTATGTCTCTTTTATGTTTGTTTGTTTTCTT...                2  \n",
      "4  GTGAGCCACTGCGCCCAGCCATAGGATTATGTCTCTTTTATGTTTG...                3  \n"
     ]
    }
   ],
   "source": [
    "import pandas as pd\n",
    "\n",
    "# Load the dataset\n",
    "file_path = '/home/youss/DNA-bert/SLC19A3_MUTATIONS_10K_Context.csv'\n",
    "df = pd.read_csv(file_path)\n",
    "\n",
    "# Print the head of the dataframe\n",
    "print(\"DataFrame Head:\")\n",
    "print(df.head())\n"
   ]
  },
  {
   "cell_type": "code",
   "execution_count": 6,
   "metadata": {},
   "outputs": [
    {
     "name": "stdout",
     "output_type": "stream",
     "text": [
      "Generating embeddings for sequences...\n"
     ]
    },
    {
     "name": "stderr",
     "output_type": "stream",
     "text": [
      "Processing sequences: 100%|██████████| 1068/1068 [01:14<00:00, 14.37it/s]\n"
     ]
    },
    {
     "name": "stdout",
     "output_type": "stream",
     "text": [
      "\n",
      "Generated 1068 embeddings of shape 768.\n",
      "Corresponding labels shape: (1068,)\n",
      "\n",
      "Preparing data and calculating sample weights...\n",
      "Sample weights calculated. Example weights: [1. 1. 1. 1. 1. 1. 1. 1. 1. 1.]\n",
      "Number of negative samples: 55\n",
      "Number of non-negative samples: 1013\n",
      "Total weight for negative samples: 550.00\n",
      "Total weight for non-negative samples: 1013.00\n",
      "\n",
      "Data split into training (854 samples) and testing (214 samples).\n",
      "\n",
      "Training RandomForest Classifier with sample weights...\n",
      "Training complete.\n",
      "\n",
      "Evaluating the classifier...\n",
      "\n",
      "Test Accuracy: 0.5047\n",
      "\n",
      "Classification Report:\n",
      "              precision    recall  f1-score   support\n",
      "\n",
      "          -2       0.00      0.00      0.00      80.0\n",
      "          -1       0.00      0.00      0.00      30.0\n",
      "           0       0.26      0.29      0.27      59.0\n",
      "           1       0.17      0.05      0.07      22.0\n",
      "           2       0.68      0.66      0.67      32.0\n",
      "           3       0.33      0.77      0.47      90.0\n",
      "\n",
      "    accuracy                           0.35     313.0\n",
      "   macro avg       0.24      0.29      0.25     313.0\n",
      "weighted avg       0.23      0.35      0.26     313.0\n",
      "\n",
      "\n",
      "Confusion Matrix:\n",
      "[[ 0.  0. 30.  0.  0. 50.]\n",
      " [ 0.  0.  0.  0.  0. 30.]\n",
      " [ 2.  0. 17.  3.  0. 37.]\n",
      " [ 1.  0.  8.  1.  1. 11.]\n",
      " [ 0.  0.  2.  0. 21.  9.]\n",
      " [ 1.  0.  9.  2.  9. 69.]]\n"
     ]
    }
   ],
   "source": [
    "import numpy as np\n",
    "from sklearn.model_selection import train_test_split\n",
    "from sklearn.ensemble import RandomForestClassifier\n",
    "from sklearn.metrics import classification_report, accuracy_score, confusion_matrix\n",
    "import torch # Ensure torch is available for tensor operations if needed\n",
    "from tqdm.auto import tqdm # For progress bar\n",
    "\n",
    "# --- 1. Generate Embeddings ---\n",
    "print(\"Generating embeddings for sequences...\")\n",
    "embeddings_list = []\n",
    "labels_list = []\n",
    "sequences_list = [] # Keep track of sequences corresponding to embeddings\n",
    "\n",
    "# Use mean pooling embeddings for this task\n",
    "embedding_type = 'mean' # or 'max' or 'concatenate'\n",
    "\n",
    "# Limit the number of sequences for faster testing/debugging if needed\n",
    "# df_subset = df.head(100) # Uncomment for testing with a smaller subset\n",
    "df_subset = df\n",
    "\n",
    "for index, row in tqdm(df_subset.iterrows(), total=df_subset.shape[0], desc=\"Processing sequences\"):\n",
    "    sequence = row['sequence']\n",
    "    label = row['ContinuousLabel']\n",
    "\n",
    "    # Ensure sequence is a string and not empty\n",
    "    if not isinstance(sequence, str) or len(sequence) == 0:\n",
    "        print(f\"Skipping row {index}: Invalid sequence '{sequence}'\")\n",
    "        continue\n",
    "\n",
    "    try:\n",
    "        # Assuming get_dna_embeddings is defined and returns (emb_mean, emb_max)\n",
    "        emb_mean, emb_max = get_dna_embeddings(sequence, model, tokenizer)\n",
    "\n",
    "        if embedding_type == 'mean':\n",
    "            embedding = emb_mean.cpu().numpy()\n",
    "        elif embedding_type == 'max':\n",
    "            embedding = emb_max.cpu().numpy()\n",
    "        elif embedding_type == 'concatenate':\n",
    "            embedding = torch.cat((emb_mean, emb_max), dim=0).cpu().numpy()\n",
    "        else:\n",
    "             # Default to mean if type is unknown\n",
    "            embedding = emb_mean.cpu().numpy()\n",
    "\n",
    "        embeddings_list.append(embedding)\n",
    "        labels_list.append(label)\n",
    "        sequences_list.append(sequence) # Store the sequence itself if needed later\n",
    "\n",
    "    except Exception as e:\n",
    "        print(f\"Error processing sequence at index {index}: {e}\")\n",
    "        # Optionally skip problematic sequences or handle differently\n",
    "        # For now, we skip them\n",
    "        continue\n",
    "\n",
    "# Convert lists to NumPy arrays\n",
    "X = np.array(embeddings_list)\n",
    "y = np.array(labels_list)\n",
    "\n",
    "print(f\"\\nGenerated {X.shape[0]} embeddings of shape {X.shape[1]}.\")\n",
    "print(f\"Corresponding labels shape: {y.shape}\")\n",
    "\n",
    "if X.shape[0] == 0:\n",
    "    print(\"No embeddings were generated. Cannot proceed with training.\")\n",
    "else:\n",
    "    # --- 2. Prepare Data and Biased Sampling Weights ---\n",
    "    print(\"\\nPreparing data and calculating sample weights...\")\n",
    "    # Define weights: higher weight for negative labels (-1, -2)\n",
    "    # Adjust the weight_multiplier based on desired bias strength\n",
    "    weight_multiplier_negative = 10.0\n",
    "    sample_weights = np.array([weight_multiplier_negative if label < 0 else 1.0 for label in y])\n",
    "\n",
    "    print(f\"Sample weights calculated. Example weights: {sample_weights[:10]}\")\n",
    "    print(f\"Number of negative samples: {np.sum(y < 0)}\")\n",
    "    print(f\"Number of non-negative samples: {np.sum(y >= 0)}\")\n",
    "    print(f\"Total weight for negative samples: {np.sum(sample_weights[y < 0]):.2f}\")\n",
    "    print(f\"Total weight for non-negative samples: {np.sum(sample_weights[y >= 0]):.2f}\")\n",
    "\n",
    "\n",
    "    # --- 3. Split Data ---\n",
    "    # Split data into training and testing sets, including sample weights\n",
    "    # train_test_split returns splits for each input array.\n",
    "    # Since we pass X, y, and sample_weights, it returns 6 arrays.\n",
    "    X_train, X_test, y_train, y_test, train_weights, test_weights = train_test_split(\n",
    "        X, y, sample_weights, test_size=0.2, random_state=42, stratify=y # Stratify helps maintain class distribution\n",
    "    )\n",
    "\n",
    "    print(f\"\\nData split into training ({X_train.shape[0]} samples) and testing ({X_test.shape[0]} samples).\")\n",
    "\n",
    "\n",
    "    # --- 4. Train RandomForest Classifier ---\n",
    "    print(\"\\nTraining RandomForest Classifier with sample weights...\")\n",
    "    # Initialize the classifier\n",
    "    # You might want to tune hyperparameters like n_estimators, max_depth, etc.\n",
    "    # class_weight='balanced' could be an alternative or complementary approach to sample_weight\n",
    "    rf_classifier = RandomForestClassifier(n_estimators=100, random_state=42, n_jobs=-1) # Use all available CPU cores\n",
    "\n",
    "    # Train the model using the training data and the calculated sample weights for the training set\n",
    "    rf_classifier.fit(X_train, y_train, sample_weight=train_weights)\n",
    "\n",
    "    print(\"Training complete.\")\n",
    "\n",
    "\n",
    "    # --- 5. Evaluate the Classifier ---\n",
    "    print(\"\\nEvaluating the classifier...\")\n",
    "    # Predict on the test set\n",
    "    y_pred = rf_classifier.predict(X_test)\n",
    "\n",
    "    # Calculate accuracy\n",
    "    # Note: accuracy_score does not directly use sample weights for evaluation by default.\n",
    "    # If weighted evaluation is needed, consider metrics like weighted F1-score or implement custom weighted accuracy.\n",
    "    accuracy = accuracy_score(y_test, y_pred)\n",
    "    print(f\"\\nTest Accuracy: {accuracy:.4f}\")\n",
    "\n",
    "    # Print classification report\n",
    "    print(\"\\nClassification Report:\")\n",
    "    # Get unique labels present in y_test or y_pred for the report\n",
    "    unique_labels = np.unique(np.concatenate((y_test, y_pred)))\n",
    "    # The classification_report can accept sample_weight for weighted metrics\n",
    "    print(classification_report(y_test, y_pred, labels=unique_labels, sample_weight=test_weights, zero_division=0))\n",
    "\n",
    "    # Print confusion matrix\n",
    "    print(\"\\nConfusion Matrix:\")\n",
    "    # The confusion_matrix can also accept sample_weight\n",
    "    print(confusion_matrix(y_test, y_pred, labels=unique_labels, sample_weight=test_weights))\n"
   ]
  },
  {
   "cell_type": "code",
   "execution_count": 8,
   "metadata": {},
   "outputs": [
    {
     "name": "stdout",
     "output_type": "stream",
     "text": [
      "Length of the wild type sequence: 34266\n"
     ]
    }
   ],
   "source": [
    "# Define the path to the sequence file\n",
    "file_path = 'wild_type_sequence.txt'\n",
    "\n",
    "# Read the sequence from the file\n",
    "try:\n",
    "    with open(file_path, 'r') as f:\n",
    "        wild_type_sequence = f.read().strip() # Read the whole file and remove leading/trailing whitespace\n",
    "\n",
    "    # Print the length of the sequence\n",
    "    print(f\"Length of the wild type sequence: {len(wild_type_sequence)}\")\n",
    "    # Optionally, print the sequence itself if it's not too long\n",
    "    # print(f\"Wild type sequence: {wild_type_sequence}\")\n",
    "\n",
    "except FileNotFoundError:\n",
    "    print(f\"Error: The file {file_path} was not found.\")\n",
    "except Exception as e:\n",
    "    print(f\"An error occurred: {e}\")"
   ]
  },
  {
   "cell_type": "code",
   "execution_count": 19,
   "metadata": {},
   "outputs": [
    {
     "name": "stdout",
     "output_type": "stream",
     "text": [
      "Number of sequences replaced: 447\n",
      "Total rows in dataframe: 1068\n"
     ]
    }
   ],
   "source": [
    "import pandas as pd\n",
    "\n",
    "# Read the wild type sequence\n",
    "# Create a copy of the dataframe to avoid modifying the original\n",
    "df_wild = df.copy()\n",
    "\n",
    "# Replace sequences where clinical_significance is 'normal' with wild type sequence\n",
    "df_wild.loc[df_wild['clinical_significance'] == 'normal', 'sequence'] = wild_type_sequence\n",
    "\n",
    "# Save the modified dataframe\n",
    "df_wild.to_csv('df_wild.csv', index=False)\n",
    "\n",
    "print(\"Number of sequences replaced:\", (df_wild['clinical_significance'] == 'normal').sum())\n",
    "print(\"Total rows in dataframe:\", len(df_wild))"
   ]
  },
  {
   "cell_type": "code",
   "execution_count": 20,
   "metadata": {},
   "outputs": [
    {
     "data": {
      "text/html": [
       "<div>\n",
       "<style scoped>\n",
       "    .dataframe tbody tr th:only-of-type {\n",
       "        vertical-align: middle;\n",
       "    }\n",
       "\n",
       "    .dataframe tbody tr th {\n",
       "        vertical-align: top;\n",
       "    }\n",
       "\n",
       "    .dataframe thead th {\n",
       "        text-align: right;\n",
       "    }\n",
       "</style>\n",
       "<table border=\"1\" class=\"dataframe\">\n",
       "  <thead>\n",
       "    <tr style=\"text-align: right;\">\n",
       "      <th></th>\n",
       "      <th>#chr</th>\n",
       "      <th>pos</th>\n",
       "      <th>variation</th>\n",
       "      <th>variant_type</th>\n",
       "      <th>snp_id</th>\n",
       "      <th>clinical_significance</th>\n",
       "      <th>validation_status</th>\n",
       "      <th>function_class</th>\n",
       "      <th>gene</th>\n",
       "      <th>frequency</th>\n",
       "      <th>UnifiedLabel</th>\n",
       "      <th>sequence</th>\n",
       "      <th>ContinuousLabel</th>\n",
       "    </tr>\n",
       "  </thead>\n",
       "  <tbody>\n",
       "    <tr>\n",
       "      <th>0</th>\n",
       "      <td>2</td>\n",
       "      <td>227685293</td>\n",
       "      <td>A&gt;G</td>\n",
       "      <td>snv</td>\n",
       "      <td>1055957</td>\n",
       "      <td>normal</td>\n",
       "      <td>by-frequency;by-alfa;by-cluster</td>\n",
       "      <td>3_prime_UTR_variant</td>\n",
       "      <td>SLC19A3</td>\n",
       "      <td>G:0.044816:224:1000Genomes|G:0.035339:4954:Gno...</td>\n",
       "      <td>benign</td>\n",
       "      <td>TTGGTATGAGTTTCAGTTGTTTATTTATTTGTTTGATTGTTGGTTT...</td>\n",
       "      <td>3</td>\n",
       "    </tr>\n",
       "    <tr>\n",
       "      <th>1</th>\n",
       "      <td>2</td>\n",
       "      <td>227685293</td>\n",
       "      <td>A&gt;G</td>\n",
       "      <td>snv</td>\n",
       "      <td>1055957</td>\n",
       "      <td>benign</td>\n",
       "      <td>by-frequency;by-alfa;by-cluster</td>\n",
       "      <td>3_prime_UTR_variant</td>\n",
       "      <td>SLC19A3</td>\n",
       "      <td>G:0.044816:224:1000Genomes|G:0.035339:4954:Gno...</td>\n",
       "      <td>benign</td>\n",
       "      <td>TGCCACCACACCTGGCTAATTTTTGTATTTTTAGTAGAGATGGGGT...</td>\n",
       "      <td>2</td>\n",
       "    </tr>\n",
       "    <tr>\n",
       "      <th>2</th>\n",
       "      <td>2</td>\n",
       "      <td>227685434</td>\n",
       "      <td>G&gt;A</td>\n",
       "      <td>snv</td>\n",
       "      <td>1134281</td>\n",
       "      <td>normal</td>\n",
       "      <td>by-frequency;by-alfa;by-cluster</td>\n",
       "      <td>3_prime_UTR_variant</td>\n",
       "      <td>SLC19A3</td>\n",
       "      <td>A:0.095409:478:1000Genomes|A:0.012714:49:ALSPA...</td>\n",
       "      <td>benign</td>\n",
       "      <td>TTGGTATGAGTTTCAGTTGTTTATTTATTTGTTTGATTGTTGGTTT...</td>\n",
       "      <td>3</td>\n",
       "    </tr>\n",
       "    <tr>\n",
       "      <th>3</th>\n",
       "      <td>2</td>\n",
       "      <td>227685434</td>\n",
       "      <td>G&gt;A</td>\n",
       "      <td>snv</td>\n",
       "      <td>1134281</td>\n",
       "      <td>benign</td>\n",
       "      <td>by-frequency;by-alfa;by-cluster</td>\n",
       "      <td>3_prime_UTR_variant</td>\n",
       "      <td>SLC19A3</td>\n",
       "      <td>A:0.095409:478:1000Genomes|A:0.012714:49:ALSPA...</td>\n",
       "      <td>benign</td>\n",
       "      <td>CGCCCAGCCATAGGATTATGTCTCTTTTATGTTTGTTTGTTTTCTT...</td>\n",
       "      <td>2</td>\n",
       "    </tr>\n",
       "    <tr>\n",
       "      <th>4</th>\n",
       "      <td>2</td>\n",
       "      <td>227685423</td>\n",
       "      <td>C&gt;A</td>\n",
       "      <td>snv</td>\n",
       "      <td>1134282</td>\n",
       "      <td>normal</td>\n",
       "      <td>by-frequency;by-alfa;by-cluster</td>\n",
       "      <td>3_prime_UTR_variant</td>\n",
       "      <td>SLC19A3</td>\n",
       "      <td>A:0.095409:478:1000Genomes|A:0.012714:49:ALSPA...</td>\n",
       "      <td>benign</td>\n",
       "      <td>TTGGTATGAGTTTCAGTTGTTTATTTATTTGTTTGATTGTTGGTTT...</td>\n",
       "      <td>3</td>\n",
       "    </tr>\n",
       "  </tbody>\n",
       "</table>\n",
       "</div>"
      ],
      "text/plain": [
       "   #chr        pos variation variant_type   snp_id clinical_significance  \\\n",
       "0     2  227685293       A>G          snv  1055957                normal   \n",
       "1     2  227685293       A>G          snv  1055957                benign   \n",
       "2     2  227685434       G>A          snv  1134281                normal   \n",
       "3     2  227685434       G>A          snv  1134281                benign   \n",
       "4     2  227685423       C>A          snv  1134282                normal   \n",
       "\n",
       "                 validation_status       function_class     gene  \\\n",
       "0  by-frequency;by-alfa;by-cluster  3_prime_UTR_variant  SLC19A3   \n",
       "1  by-frequency;by-alfa;by-cluster  3_prime_UTR_variant  SLC19A3   \n",
       "2  by-frequency;by-alfa;by-cluster  3_prime_UTR_variant  SLC19A3   \n",
       "3  by-frequency;by-alfa;by-cluster  3_prime_UTR_variant  SLC19A3   \n",
       "4  by-frequency;by-alfa;by-cluster  3_prime_UTR_variant  SLC19A3   \n",
       "\n",
       "                                           frequency UnifiedLabel  \\\n",
       "0  G:0.044816:224:1000Genomes|G:0.035339:4954:Gno...       benign   \n",
       "1  G:0.044816:224:1000Genomes|G:0.035339:4954:Gno...       benign   \n",
       "2  A:0.095409:478:1000Genomes|A:0.012714:49:ALSPA...       benign   \n",
       "3  A:0.095409:478:1000Genomes|A:0.012714:49:ALSPA...       benign   \n",
       "4  A:0.095409:478:1000Genomes|A:0.012714:49:ALSPA...       benign   \n",
       "\n",
       "                                            sequence  ContinuousLabel  \n",
       "0  TTGGTATGAGTTTCAGTTGTTTATTTATTTGTTTGATTGTTGGTTT...                3  \n",
       "1  TGCCACCACACCTGGCTAATTTTTGTATTTTTAGTAGAGATGGGGT...                2  \n",
       "2  TTGGTATGAGTTTCAGTTGTTTATTTATTTGTTTGATTGTTGGTTT...                3  \n",
       "3  CGCCCAGCCATAGGATTATGTCTCTTTTATGTTTGTTTGTTTTCTT...                2  \n",
       "4  TTGGTATGAGTTTCAGTTGTTTATTTATTTGTTTGATTGTTGGTTT...                3  "
      ]
     },
     "execution_count": 20,
     "metadata": {},
     "output_type": "execute_result"
    }
   ],
   "source": [
    "df_wild.head()"
   ]
  },
  {
   "cell_type": "code",
   "execution_count": 50,
   "metadata": {},
   "outputs": [
    {
     "name": "stdout",
     "output_type": "stream",
     "text": [
      "Warning: Position 34267 is out of range for sequence of length 34266. Skipping variant at position 227718030.\n",
      "Warning: Position 34267 is out of range for sequence of length 34266. Skipping variant at position 227718030.\n",
      "Number of variants processed: 284\n",
      "Total rows in processed dataframe: 1352\n"
     ]
    }
   ],
   "source": [
    "import pandas as pd\n",
    "import copy\n",
    "\n",
    "def process_variants(df_wild, wild_type_sequence, gene_start=227683763):\n",
    "    # Create a new dataframe for the modified sequences\n",
    "    df_processed = df_wild.copy()\n",
    "    \n",
    "    # Process only non-normal variants\n",
    "    mask = df_processed['clinical_significance'] != 'normal'\n",
    "    \n",
    "    for idx, row in df_processed[mask].iterrows():\n",
    "        try:\n",
    "            # Calculate local position in the gene\n",
    "            var_local_pos = row['pos'] - gene_start  # -1 for zero-based indexing\n",
    "            \n",
    "            # Check if the position is within the bounds of the sequence\n",
    "            if var_local_pos < 0 or var_local_pos >= len(wild_type_sequence):\n",
    "                print(f\"Warning: Position {var_local_pos} is out of range for sequence of length {len(wild_type_sequence)}. Skipping variant at position {row['pos']}.\")\n",
    "                continue\n",
    "            \n",
    "            if row['variant_type'].lower() == 'snv':\n",
    "                # Handle SNV (Single Nucleotide Variant)\n",
    "                ref, alts = row['variation'].split('>')\n",
    "                alts = alts.split(',')  # Split multiple alternative alleles\n",
    "                \n",
    "                # Verify reference base\n",
    "                if wild_type_sequence[var_local_pos] == ref:\n",
    "                    # Create a row for each alternative allele\n",
    "                    for alt in alts:\n",
    "                        if alt != '-':  # Skip if it's a deletion marker\n",
    "                            new_seq = list(wild_type_sequence)\n",
    "                            new_seq[var_local_pos] = alt\n",
    "                            df_processed.at[idx, 'sequence'] = ''.join(new_seq)\n",
    "                            # If there are multiple alternatives, we need to duplicate the row\n",
    "                            if len(alts) > 1 and alt != alts[0]:\n",
    "                                new_row = df_processed.loc[idx].copy()\n",
    "                                new_row['sequence'] = ''.join(new_seq)\n",
    "                                df_processed = pd.concat([df_processed, pd.DataFrame([new_row])], ignore_index=True)\n",
    "                else:\n",
    "                    print(f\"Warning: Reference base mismatch at position {var_local_pos}. Expected {ref}, found {wild_type_sequence[var_local_pos]}\")\n",
    "            \n",
    "            elif row['variant_type'].lower() == 'delins':\n",
    "                # Handle deletion-insertion variants\n",
    "                if '>' in row['variation']:\n",
    "                    ref, alt = row['variation'].split('>')\n",
    "                    new_seq = list(wild_type_sequence)\n",
    "                    \n",
    "                    if ref == '-':  # Insertion\n",
    "                        # Insert the new sequence at the position\n",
    "                        new_seq = new_seq[:var_local_pos] + list(alt) + new_seq[var_local_pos:]\n",
    "                    elif alt == '-':  # Deletion\n",
    "                        # Remove the sequence\n",
    "                        new_seq = new_seq[:var_local_pos] + new_seq[var_local_pos + len(ref):]\n",
    "                    else:  # Replacement\n",
    "                        new_seq = new_seq[:var_local_pos] + list(alt) + new_seq[var_local_pos + len(ref):]\n",
    "                    \n",
    "                    df_processed.at[idx, 'sequence'] = ''.join(new_seq)\n",
    "            \n",
    "            elif row['variant_type'].lower() == 'mnv':\n",
    "                # Handle Multiple Nucleotide Variants\n",
    "                ref, alt = row['variation'].split('>')\n",
    "                new_seq = list(wild_type_sequence)\n",
    "                # Replace the sequence at the position\n",
    "                if var_local_pos + len(ref) <= len(wild_type_sequence):\n",
    "                    new_seq[var_local_pos:var_local_pos + len(ref)] = list(alt)\n",
    "                    df_processed.at[idx, 'sequence'] = ''.join(new_seq)\n",
    "                else:\n",
    "                    print(f\"Warning: MNV at position {var_local_pos} extends beyond sequence length. Skipping.\")\n",
    "        \n",
    "        except Exception as e:\n",
    "            print(f\"Error processing variant at position {row['pos']}: {e}. Skipping.\")\n",
    "            continue\n",
    "\n",
    "    return df_processed\n",
    "\n",
    "\n",
    "# Process the variants\n",
    "try:\n",
    "    df_processed = process_variants(df_wild, wild_type_sequence)\n",
    "    \n",
    "    # Save the processed dataframe\n",
    "    df_processed.to_csv('df_processed.csv', index=False)\n",
    "    \n",
    "    # Print statistics\n",
    "    print(\"Number of variants processed:\", len(df_processed) - len(df_wild))\n",
    "    print(\"Total rows in processed dataframe:\", len(df_processed))\n",
    "except Exception as e:\n",
    "    print(f\"Error during variant processing: {e}\")"
   ]
  },
  {
   "cell_type": "code",
   "execution_count": 63,
   "metadata": {},
   "outputs": [
    {
     "name": "stdout",
     "output_type": "stream",
     "text": [
      "Generating embeddings for processed sequences...\n"
     ]
    },
    {
     "name": "stderr",
     "output_type": "stream",
     "text": [
      "Processing sequences for NN:   0%|          | 0/1352 [00:00<?, ?it/s]/home/youss/.cache/huggingface/modules/transformers_modules/zhihan1996/DNABERT-2-117M/d064dece8a8b41d9fb8729fbe3435278786931f1/bert_layers.py:433: UserWarning: Increasing alibi size from 1896 to 6468\n",
      "  warnings.warn(\n",
      "Processing sequences for NN:   0%|          | 1/1352 [00:00<18:18,  1.23it/s]/home/youss/.cache/huggingface/modules/transformers_modules/zhihan1996/DNABERT-2-117M/d064dece8a8b41d9fb8729fbe3435278786931f1/bert_layers.py:433: UserWarning: Increasing alibi size from 6468 to 6469\n",
      "  warnings.warn(\n",
      "Processing sequences for NN:   2%|▏         | 26/1352 [00:10<10:13,  2.16it/s]/home/youss/.cache/huggingface/modules/transformers_modules/zhihan1996/DNABERT-2-117M/d064dece8a8b41d9fb8729fbe3435278786931f1/bert_layers.py:433: UserWarning: Increasing alibi size from 6469 to 6470\n",
      "  warnings.warn(\n",
      "Processing sequences for NN:   5%|▍         | 63/1352 [00:28<09:59,  2.15it/s]/home/youss/.cache/huggingface/modules/transformers_modules/zhihan1996/DNABERT-2-117M/d064dece8a8b41d9fb8729fbe3435278786931f1/bert_layers.py:433: UserWarning: Increasing alibi size from 6470 to 6486\n",
      "  warnings.warn(\n",
      "Processing sequences for NN: 100%|██████████| 1352/1352 [10:09<00:00,  2.22it/s]\n"
     ]
    },
    {
     "name": "stdout",
     "output_type": "stream",
     "text": [
      "\n",
      "Generated 1352 embeddings of shape 768.\n",
      "Corresponding labels shape: (1352,)\n",
      "\n",
      "Preparing data for PyTorch...\n",
      "Original labels: [-2 -1  0  1  2  3]\n",
      "Encoded labels: [0 1 2 3 4 5]\n",
      "Number of classes: 6\n",
      "Label mapping: {np.int64(-2): np.int64(0), np.int64(-1): np.int64(1), np.int64(0): np.int64(2), np.int64(1): np.int64(3), np.int64(2): np.int64(4), np.int64(3): np.int64(5)}\n",
      "Data split into training (1081 samples) and testing (271 samples).\n",
      "\n",
      "Defining the Neural Network...\n",
      "SimpleNN(\n",
      "  (fc1): Linear(in_features=768, out_features=128, bias=True)\n",
      "  (relu): ReLU()\n",
      "  (fc2): Linear(in_features=128, out_features=6, bias=True)\n",
      ")\n",
      "Using device: cuda\n",
      "\n",
      "Training the Neural Network...\n"
     ]
    },
    {
     "name": "stderr",
     "output_type": "stream",
     "text": [
      "                                                                     \r"
     ]
    },
    {
     "name": "stdout",
     "output_type": "stream",
     "text": [
      "Epoch 1/20 - Loss: 1.5649, Accuracy: 0.3219\n"
     ]
    },
    {
     "name": "stderr",
     "output_type": "stream",
     "text": [
      "                                                             \r"
     ]
    },
    {
     "name": "stdout",
     "output_type": "stream",
     "text": [
      "Epoch 2/20 - Loss: 1.4784, Accuracy: 0.3182\n"
     ]
    },
    {
     "name": "stderr",
     "output_type": "stream",
     "text": [
      "                                                             \r"
     ]
    },
    {
     "name": "stdout",
     "output_type": "stream",
     "text": [
      "Epoch 3/20 - Loss: 1.4752, Accuracy: 0.3127\n"
     ]
    },
    {
     "name": "stderr",
     "output_type": "stream",
     "text": [
      "                                                             \r"
     ]
    },
    {
     "name": "stdout",
     "output_type": "stream",
     "text": [
      "Epoch 4/20 - Loss: 1.4773, Accuracy: 0.3164\n"
     ]
    },
    {
     "name": "stderr",
     "output_type": "stream",
     "text": [
      "                                                             \r"
     ]
    },
    {
     "name": "stdout",
     "output_type": "stream",
     "text": [
      "Epoch 5/20 - Loss: 1.4753, Accuracy: 0.3256\n"
     ]
    },
    {
     "name": "stderr",
     "output_type": "stream",
     "text": [
      "                                                             \r"
     ]
    },
    {
     "name": "stdout",
     "output_type": "stream",
     "text": [
      "Epoch 6/20 - Loss: 1.4785, Accuracy: 0.3386\n"
     ]
    },
    {
     "name": "stderr",
     "output_type": "stream",
     "text": [
      "                                                             \r"
     ]
    },
    {
     "name": "stdout",
     "output_type": "stream",
     "text": [
      "Epoch 7/20 - Loss: 1.4751, Accuracy: 0.3395\n"
     ]
    },
    {
     "name": "stderr",
     "output_type": "stream",
     "text": [
      "                                                             \r"
     ]
    },
    {
     "name": "stdout",
     "output_type": "stream",
     "text": [
      "Epoch 8/20 - Loss: 1.4778, Accuracy: 0.3191\n"
     ]
    },
    {
     "name": "stderr",
     "output_type": "stream",
     "text": [
      "                                                             \r"
     ]
    },
    {
     "name": "stdout",
     "output_type": "stream",
     "text": [
      "Epoch 9/20 - Loss: 1.4776, Accuracy: 0.3191\n"
     ]
    },
    {
     "name": "stderr",
     "output_type": "stream",
     "text": [
      "                                                              \r"
     ]
    },
    {
     "name": "stdout",
     "output_type": "stream",
     "text": [
      "Epoch 10/20 - Loss: 1.4747, Accuracy: 0.3247\n"
     ]
    },
    {
     "name": "stderr",
     "output_type": "stream",
     "text": [
      "                                                              \r"
     ]
    },
    {
     "name": "stdout",
     "output_type": "stream",
     "text": [
      "Epoch 11/20 - Loss: 1.4778, Accuracy: 0.3275\n"
     ]
    },
    {
     "name": "stderr",
     "output_type": "stream",
     "text": [
      "                                                              \r"
     ]
    },
    {
     "name": "stdout",
     "output_type": "stream",
     "text": [
      "Epoch 12/20 - Loss: 1.4782, Accuracy: 0.3256\n"
     ]
    },
    {
     "name": "stderr",
     "output_type": "stream",
     "text": [
      "                                                              \r"
     ]
    },
    {
     "name": "stdout",
     "output_type": "stream",
     "text": [
      "Epoch 13/20 - Loss: 1.4743, Accuracy: 0.3293\n"
     ]
    },
    {
     "name": "stderr",
     "output_type": "stream",
     "text": [
      "                                                              \r"
     ]
    },
    {
     "name": "stdout",
     "output_type": "stream",
     "text": [
      "Epoch 14/20 - Loss: 1.4777, Accuracy: 0.3414\n"
     ]
    },
    {
     "name": "stderr",
     "output_type": "stream",
     "text": [
      "                                                              \r"
     ]
    },
    {
     "name": "stdout",
     "output_type": "stream",
     "text": [
      "Epoch 15/20 - Loss: 1.4758, Accuracy: 0.3173\n"
     ]
    },
    {
     "name": "stderr",
     "output_type": "stream",
     "text": [
      "                                                              \r"
     ]
    },
    {
     "name": "stdout",
     "output_type": "stream",
     "text": [
      "Epoch 16/20 - Loss: 1.4741, Accuracy: 0.3173\n"
     ]
    },
    {
     "name": "stderr",
     "output_type": "stream",
     "text": [
      "                                                              \r"
     ]
    },
    {
     "name": "stdout",
     "output_type": "stream",
     "text": [
      "Epoch 17/20 - Loss: 1.4757, Accuracy: 0.3164\n"
     ]
    },
    {
     "name": "stderr",
     "output_type": "stream",
     "text": [
      "                                                              \r"
     ]
    },
    {
     "name": "stdout",
     "output_type": "stream",
     "text": [
      "Epoch 18/20 - Loss: 1.4771, Accuracy: 0.3108\n"
     ]
    },
    {
     "name": "stderr",
     "output_type": "stream",
     "text": [
      "                                                              \r"
     ]
    },
    {
     "name": "stdout",
     "output_type": "stream",
     "text": [
      "Epoch 19/20 - Loss: 1.4761, Accuracy: 0.3238\n"
     ]
    },
    {
     "name": "stderr",
     "output_type": "stream",
     "text": [
      "                                                              \r"
     ]
    },
    {
     "name": "stdout",
     "output_type": "stream",
     "text": [
      "Epoch 20/20 - Loss: 1.4801, Accuracy: 0.3330\n",
      "Training complete.\n"
     ]
    },
    {
     "data": {
      "image/png": "[encoded data removed]",
      "text/plain": [
       "<Figure size 1200x500 with 2 Axes>"
      ]
     },
     "metadata": {},
     "output_type": "display_data"
    },
    {
     "name": "stdout",
     "output_type": "stream",
     "text": [
      "\n",
      "Evaluating the Neural Network...\n"
     ]
    },
    {
     "name": "stderr",
     "output_type": "stream",
     "text": [
      "Evaluating: 100%|██████████| 9/9 [00:00<00:00, 2141.89it/s]\n"
     ]
    },
    {
     "name": "stdout",
     "output_type": "stream",
     "text": [
      "\n",
      "Test Accuracy (NN): 0.3321\n",
      "\n",
      "Classification Report (NN):\n",
      "              precision    recall  f1-score   support\n",
      "\n",
      "          -2       0.00      0.00      0.00        11\n",
      "          -1       0.00      0.00      0.00         3\n",
      "           0       0.00      0.00      0.00        90\n",
      "           1       0.00      0.00      0.00        33\n",
      "           2       0.00      0.00      0.00        44\n",
      "           3       0.33      1.00      0.50        90\n",
      "\n",
      "    accuracy                           0.33       271\n",
      "   macro avg       0.06      0.17      0.08       271\n",
      "weighted avg       0.11      0.33      0.17       271\n",
      "\n",
      "\n",
      "Confusion Matrix (NN):\n",
      "[[ 0  0  0  0  0 11]\n",
      " [ 0  0  0  0  0  3]\n",
      " [ 0  0  0  0  0 90]\n",
      " [ 0  0  0  0  0 33]\n",
      " [ 0  0  1  0  0 43]\n",
      " [ 0  0  0  0  0 90]]\n"
     ]
    },
    {
     "data": {
      "image/png": "[encoded data removed]",
      "text/plain": [
       "<Figure size 800x600 with 2 Axes>"
      ]
     },
     "metadata": {},
     "output_type": "display_data"
    }
   ],
   "source": [
    "import torch\n",
    "import torch.nn as nn\n",
    "import torch.optim as optim\n",
    "from torch.utils.data import DataLoader, TensorDataset\n",
    "import numpy as np\n",
    "from sklearn.model_selection import train_test_split\n",
    "from sklearn.metrics import classification_report, accuracy_score, confusion_matrix\n",
    "from sklearn.preprocessing import LabelEncoder\n",
    "from tqdm.auto import tqdm\n",
    "import matplotlib.pyplot as plt\n",
    "\n",
    "# Ensure df_processed exists from the previous cell\n",
    "if 'df_processed' not in locals():\n",
    "    raise NameError(\"df_processed is not defined. Please run the previous cell to generate it.\")\n",
    "\n",
    "# --- 1. Generate Embeddings using df_processed ---\n",
    "print(\"Generating embeddings for processed sequences...\")\n",
    "embeddings_list_nn = []\n",
    "labels_list_nn = []\n",
    "sequences_list_nn = [] # Keep track of sequences corresponding to embeddings\n",
    "\n",
    "# Use mean pooling embeddings for this task\n",
    "embedding_type_nn = 'mean' # or 'max' or 'concatenate'\n",
    "\n",
    "# Limit the number of sequences for faster testing/debugging if needed\n",
    "# df_subset_nn = df_processed.head(200) # Uncomment for testing\n",
    "df_subset_nn = df_processed\n",
    "\n",
    "# Assuming get_dna_embeddings, model, and tokenizer are defined from earlier cells\n",
    "for index, row in tqdm(df_subset_nn.iterrows(), total=df_subset_nn.shape[0], desc=\"Processing sequences for NN\"):\n",
    "    sequence = row['sequence']\n",
    "    label = row['ContinuousLabel'] # Assuming this is the correct label column\n",
    "\n",
    "    # Ensure sequence is a string and not empty\n",
    "    if not isinstance(sequence, str) or len(sequence) == 0:\n",
    "        print(f\"Skipping row {index}: Invalid sequence '{sequence}'\")\n",
    "        continue\n",
    "\n",
    "    # Ensure label is valid (e.g., not NaN)\n",
    "    if pd.isna(label):\n",
    "        print(f\"Skipping row {index}: Invalid label '{label}'\")\n",
    "        continue\n",
    "\n",
    "    try:\n",
    "        # Assuming get_dna_embeddings returns (emb_mean, emb_max) as PyTorch tensors\n",
    "        emb_mean, emb_max = get_dna_embeddings(sequence, model, tokenizer)\n",
    "\n",
    "        if embedding_type_nn == 'mean':\n",
    "            embedding = emb_mean.cpu().numpy().flatten() # Flatten in case it's not already 1D\n",
    "        elif embedding_type_nn == 'max':\n",
    "            embedding = emb_max.cpu().numpy().flatten()\n",
    "        elif embedding_type_nn == 'concatenate':\n",
    "            embedding = torch.cat((emb_mean, emb_max), dim=1).cpu().numpy().flatten() # Concatenate along feature dim\n",
    "        else:\n",
    "             # Default to mean if type is unknown\n",
    "            embedding = emb_mean.cpu().numpy().flatten()\n",
    "\n",
    "        embeddings_list_nn.append(embedding)\n",
    "        labels_list_nn.append(label)\n",
    "        sequences_list_nn.append(sequence) # Store the sequence itself if needed later\n",
    "\n",
    "    except Exception as e:\n",
    "        print(f\"Error processing sequence at index {index} ('{sequence[:30]}...'): {e}\")\n",
    "        # Optionally skip problematic sequences or handle differently\n",
    "        continue\n",
    "\n",
    "# Convert lists to NumPy arrays\n",
    "X_nn = np.array(embeddings_list_nn)\n",
    "y_nn_original = np.array(labels_list_nn)\n",
    "\n",
    "print(f\"\\nGenerated {X_nn.shape[0]} embeddings of shape {X_nn.shape[1]}.\")\n",
    "print(f\"Corresponding labels shape: {y_nn_original.shape}\")\n",
    "\n",
    "if X_nn.shape[0] == 0:\n",
    "    print(\"No embeddings were generated. Cannot proceed with NN training.\")\n",
    "else:\n",
    "    # --- 2. Prepare Data for PyTorch ---\n",
    "    print(\"\\nPreparing data for PyTorch...\")\n",
    "\n",
    "    # Encode labels to be zero-indexed integers (required for CrossEntropyLoss)\n",
    "    le = LabelEncoder()\n",
    "    y_nn_encoded = le.fit_transform(y_nn_original)\n",
    "    num_classes = len(le.classes_)\n",
    "    print(f\"Original labels: {np.unique(y_nn_original)}\")\n",
    "    print(f\"Encoded labels: {np.unique(y_nn_encoded)}\")\n",
    "    print(f\"Number of classes: {num_classes}\")\n",
    "    print(\"Label mapping:\", dict(zip(le.classes_, le.transform(le.classes_))))\n",
    "\n",
    "\n",
    "    # Split data into training and testing sets\n",
    "    X_train_nn, X_test_nn, y_train_nn, y_test_nn = train_test_split(\n",
    "        X_nn, y_nn_encoded, test_size=0.2, random_state=42, stratify=y_nn_encoded # Stratify helps maintain class distribution\n",
    "    )\n",
    "\n",
    "    print(f\"Data split into training ({X_train_nn.shape[0]} samples) and testing ({X_test_nn.shape[0]} samples).\")\n",
    "\n",
    "    # Convert NumPy arrays to PyTorch tensors\n",
    "    X_train_tensor = torch.tensor(X_train_nn, dtype=torch.float32)\n",
    "    y_train_tensor = torch.tensor(y_train_nn, dtype=torch.long) # Use long for CrossEntropyLoss\n",
    "    X_test_tensor = torch.tensor(X_test_nn, dtype=torch.float32)\n",
    "    y_test_tensor = torch.tensor(y_test_nn, dtype=torch.long)\n",
    "\n",
    "    # Create TensorDatasets and DataLoaders\n",
    "    batch_size = 32\n",
    "    train_dataset = TensorDataset(X_train_tensor, y_train_tensor)\n",
    "    test_dataset = TensorDataset(X_test_tensor, y_test_tensor)\n",
    "    train_loader = DataLoader(train_dataset, batch_size=batch_size, shuffle=True)\n",
    "    test_loader = DataLoader(test_dataset, batch_size=batch_size, shuffle=False)\n",
    "\n",
    "\n",
    "    # --- 3. Define the Neural Network ---\n",
    "    print(\"\\nDefining the Neural Network...\")\n",
    "    input_dim = X_train_nn.shape[1]\n",
    "    hidden_dim = 128 # Example hidden layer size\n",
    "\n",
    "    class SimpleNN(nn.Module):\n",
    "        def __init__(self, input_dim, hidden_dim, output_dim):\n",
    "            super(SimpleNN, self).__init__()\n",
    "            self.fc1 = nn.Linear(input_dim, hidden_dim)\n",
    "            self.relu = nn.ReLU()\n",
    "            self.fc2 = nn.Linear(hidden_dim, output_dim)\n",
    "            # No softmax here, as CrossEntropyLoss includes it\n",
    "\n",
    "        def forward(self, x):\n",
    "            out = self.fc1(x)\n",
    "            out = self.relu(out)\n",
    "            out = self.fc2(out)\n",
    "            return out\n",
    "\n",
    "    nn_model = SimpleNN(input_dim, hidden_dim, num_classes)\n",
    "    print(nn_model)\n",
    "\n",
    "    # Check for GPU availability\n",
    "    device = torch.device(\"cuda\" if torch.cuda.is_available() else \"cpu\")\n",
    "    nn_model.to(device)\n",
    "    print(f\"Using device: {device}\")\n",
    "\n",
    "\n",
    "    # --- 4. Define Loss Function and Optimizer ---\n",
    "    # Consider using class weights if dataset is imbalanced\n",
    "    # Example: calculate weights based on class frequency\n",
    "    # class_counts = np.bincount(y_train_nn)\n",
    "    # class_weights = 1. / torch.tensor(class_counts, dtype=torch.float32)\n",
    "    # class_weights = class_weights / class_weights.sum() * num_classes # Normalize\n",
    "    # criterion = nn.CrossEntropyLoss(weight=class_weights.to(device))\n",
    "    criterion = nn.CrossEntropyLoss() # Standard Cross Entropy Loss\n",
    "    optimizer = optim.Adam(nn_model.parameters(), lr=0.001)\n",
    "\n",
    "\n",
    "    # --- 5. Train the Neural Network ---\n",
    "    print(\"\\nTraining the Neural Network...\")\n",
    "    num_epochs = 20 # Adjust as needed\n",
    "    train_losses = []\n",
    "    train_accuracies = []\n",
    "\n",
    "    for epoch in range(num_epochs):\n",
    "        nn_model.train() # Set model to training mode\n",
    "        running_loss = 0.0\n",
    "        correct_train = 0\n",
    "        total_train = 0\n",
    "\n",
    "        progress_bar = tqdm(train_loader, desc=f\"Epoch {epoch+1}/{num_epochs}\", leave=False)\n",
    "        for inputs, labels in progress_bar:\n",
    "            inputs, labels = inputs.to(device), labels.to(device)\n",
    "\n",
    "            # Zero the parameter gradients\n",
    "            optimizer.zero_grad()\n",
    "\n",
    "            # Forward pass\n",
    "            outputs = nn_model(inputs)\n",
    "            loss = criterion(outputs, labels)\n",
    "\n",
    "            # Backward pass and optimize\n",
    "            loss.backward()\n",
    "            optimizer.step()\n",
    "\n",
    "            # Statistics\n",
    "            running_loss += loss.item() * inputs.size(0)\n",
    "            _, predicted = torch.max(outputs.data, 1)\n",
    "            total_train += labels.size(0)\n",
    "            correct_train += (predicted == labels).sum().item()\n",
    "            progress_bar.set_postfix({'loss': loss.item()})\n",
    "\n",
    "\n",
    "        epoch_loss = running_loss / len(train_loader.dataset)\n",
    "        epoch_acc = correct_train / total_train\n",
    "        train_losses.append(epoch_loss)\n",
    "        train_accuracies.append(epoch_acc)\n",
    "        print(f\"Epoch {epoch+1}/{num_epochs} - Loss: {epoch_loss:.4f}, Accuracy: {epoch_acc:.4f}\")\n",
    "\n",
    "\n",
    "    print(\"Training complete.\")\n",
    "\n",
    "    # Plot training loss and accuracy\n",
    "    plt.figure(figsize=(12, 5))\n",
    "    plt.subplot(1, 2, 1)\n",
    "    plt.plot(range(1, num_epochs + 1), train_losses, label='Training Loss')\n",
    "    plt.xlabel('Epochs')\n",
    "    plt.ylabel('Loss')\n",
    "    plt.title('Training Loss over Epochs')\n",
    "    plt.legend()\n",
    "\n",
    "    plt.subplot(1, 2, 2)\n",
    "    plt.plot(range(1, num_epochs + 1), train_accuracies, label='Training Accuracy')\n",
    "    plt.xlabel('Epochs')\n",
    "    plt.ylabel('Accuracy')\n",
    "    plt.title('Training Accuracy over Epochs')\n",
    "    plt.legend()\n",
    "    plt.tight_layout()\n",
    "    plt.show()\n",
    "\n",
    "\n",
    "    # --- 6. Evaluate the Neural Network ---\n",
    "    print(\"\\nEvaluating the Neural Network...\")\n",
    "    nn_model.eval() # Set model to evaluation mode\n",
    "    y_pred_list = []\n",
    "    y_true_list = []\n",
    "\n",
    "    with torch.no_grad(): # Disable gradient calculations\n",
    "        for inputs, labels in tqdm(test_loader, desc=\"Evaluating\"):\n",
    "            inputs, labels = inputs.to(device), labels.to(device)\n",
    "            outputs = nn_model(inputs)\n",
    "            _, predicted = torch.max(outputs.data, 1)\n",
    "\n",
    "            y_pred_list.extend(predicted.cpu().numpy())\n",
    "            y_true_list.extend(labels.cpu().numpy())\n",
    "\n",
    "    # Convert predictions and true labels back to original labels if needed for interpretation\n",
    "    y_pred_nn = np.array(y_pred_list)\n",
    "    y_test_nn_eval = np.array(y_true_list) # These are already the encoded labels (0, 1, 2...)\n",
    "\n",
    "    # Calculate accuracy\n",
    "    accuracy_nn = accuracy_score(y_test_nn_eval, y_pred_nn)\n",
    "    print(f\"\\nTest Accuracy (NN): {accuracy_nn:.4f}\")\n",
    "\n",
    "    # Print classification report\n",
    "    print(\"\\nClassification Report (NN):\")\n",
    "    # Use encoded labels for report, but provide target names using the label encoder\n",
    "    print(classification_report(y_test_nn_eval, y_pred_nn, target_names=[str(cls) for cls in le.classes_], zero_division=0))\n",
    "\n",
    "    # Print confusion matrix\n",
    "    print(\"\\nConfusion Matrix (NN):\")\n",
    "    # Use encoded labels for matrix, display with original class names as ticks if desired\n",
    "    cm = confusion_matrix(y_test_nn_eval, y_pred_nn, labels=le.transform(le.classes_))\n",
    "    print(cm)\n",
    "\n",
    "    # Optional: Display confusion matrix with labels\n",
    "    try:\n",
    "        import seaborn as sns\n",
    "        plt.figure(figsize=(8, 6))\n",
    "        sns.heatmap(cm, annot=True, fmt='d', cmap='Blues', xticklabels=le.classes_, yticklabels=le.classes_)\n",
    "        plt.xlabel('Predicted Label')\n",
    "        plt.ylabel('True Label')\n",
    "        plt.title('Confusion Matrix (NN)')\n",
    "        plt.show()\n",
    "    except ImportError:\n",
    "        print(\"Seaborn not installed. Skipping heatmap visualization.\")\n",
    "        print(\"Confusion Matrix (row=True, col=Predicted):\")\n",
    "        print(pd.DataFrame(cm, index=le.classes_, columns=le.classes_))\n"
   ]
  },
  {
   "cell_type": "code",
   "execution_count": null,
   "metadata": {},
   "outputs": [],
   "source": []
  },
  {
   "cell_type": "markdown",
   "metadata": {},
   "source": [
    "### Evo2"
   ]
  },
  {
   "cell_type": "code",
   "execution_count": null,
   "metadata": {},
   "outputs": [
    {
     "name": "stdout",
     "output_type": "stream",
     "text": [
      "Generating embeddings for processed sequences...\n"
     ]
    },
    {
     "name": "stderr",
     "output_type": "stream",
     "text": [
      "Processing sequences for NN:   0%|          | 0/1352 [00:00<?, ?it/s]/home/youss/.cache/huggingface/modules/transformers_modules/zhihan1996/DNABERT-2-117M/d064dece8a8b41d9fb8729fbe3435278786931f1/bert_layers.py:433: UserWarning: Increasing alibi size from 1896 to 6468\n",
      "  warnings.warn(\n",
      "Processing sequences for NN:   0%|          | 1/1352 [00:00<18:18,  1.23it/s]/home/youss/.cache/huggingface/modules/transformers_modules/zhihan1996/DNABERT-2-117M/d064dece8a8b41d9fb8729fbe3435278786931f1/bert_layers.py:433: UserWarning: Increasing alibi size from 6468 to 6469\n",
      "  warnings.warn(\n",
      "Processing sequences for NN:   2%|▏         | 26/1352 [00:10<10:13,  2.16it/s]/home/youss/.cache/huggingface/modules/transformers_modules/zhihan1996/DNABERT-2-117M/d064dece8a8b41d9fb8729fbe3435278786931f1/bert_layers.py:433: UserWarning: Increasing alibi size from 6469 to 6470\n",
      "  warnings.warn(\n",
      "Processing sequences for NN:   5%|▍         | 63/1352 [00:28<09:59,  2.15it/s]/home/youss/.cache/huggingface/modules/transformers_modules/zhihan1996/DNABERT-2-117M/d064dece8a8b41d9fb8729fbe3435278786931f1/bert_layers.py:433: UserWarning: Increasing alibi size from 6470 to 6486\n",
      "  warnings.warn(\n",
      "Processing sequences for NN: 100%|██████████| 1352/1352 [10:09<00:00,  2.22it/s]\n"
     ]
    },
    {
     "name": "stdout",
     "output_type": "stream",
     "text": [
      "\n",
      "Generated 1352 embeddings of shape 768.\n",
      "Corresponding labels shape: (1352,)\n",
      "\n",
      "Preparing data for PyTorch...\n",
      "Original labels: [-2 -1  0  1  2  3]\n",
      "Encoded labels: [0 1 2 3 4 5]\n",
      "Number of classes: 6\n",
      "Label mapping: {np.int64(-2): np.int64(0), np.int64(-1): np.int64(1), np.int64(0): np.int64(2), np.int64(1): np.int64(3), np.int64(2): np.int64(4), np.int64(3): np.int64(5)}\n",
      "Data split into training (1081 samples) and testing (271 samples).\n",
      "\n",
      "Defining the Neural Network...\n",
      "SimpleNN(\n",
      "  (fc1): Linear(in_features=768, out_features=128, bias=True)\n",
      "  (relu): ReLU()\n",
      "  (fc2): Linear(in_features=128, out_features=6, bias=True)\n",
      ")\n",
      "Using device: cuda\n",
      "\n",
      "Training the Neural Network...\n"
     ]
    },
    {
     "name": "stderr",
     "output_type": "stream",
     "text": [
      "                                                                     \r"
     ]
    },
    {
     "name": "stdout",
     "output_type": "stream",
     "text": [
      "Epoch 1/20 - Loss: 1.5649, Accuracy: 0.3219\n"
     ]
    },
    {
     "name": "stderr",
     "output_type": "stream",
     "text": [
      "                                                             \r"
     ]
    },
    {
     "name": "stdout",
     "output_type": "stream",
     "text": [
      "Epoch 2/20 - Loss: 1.4784, Accuracy: 0.3182\n"
     ]
    },
    {
     "name": "stderr",
     "output_type": "stream",
     "text": [
      "                                                             \r"
     ]
    },
    {
     "name": "stdout",
     "output_type": "stream",
     "text": [
      "Epoch 3/20 - Loss: 1.4752, Accuracy: 0.3127\n"
     ]
    },
    {
     "name": "stderr",
     "output_type": "stream",
     "text": [
      "                                                             \r"
     ]
    },
    {
     "name": "stdout",
     "output_type": "stream",
     "text": [
      "Epoch 4/20 - Loss: 1.4773, Accuracy: 0.3164\n"
     ]
    },
    {
     "name": "stderr",
     "output_type": "stream",
     "text": [
      "                                                             \r"
     ]
    },
    {
     "name": "stdout",
     "output_type": "stream",
     "text": [
      "Epoch 5/20 - Loss: 1.4753, Accuracy: 0.3256\n"
     ]
    },
    {
     "name": "stderr",
     "output_type": "stream",
     "text": [
      "                                                             \r"
     ]
    },
    {
     "name": "stdout",
     "output_type": "stream",
     "text": [
      "Epoch 6/20 - Loss: 1.4785, Accuracy: 0.3386\n"
     ]
    },
    {
     "name": "stderr",
     "output_type": "stream",
     "text": [
      "                                                             \r"
     ]
    },
    {
     "name": "stdout",
     "output_type": "stream",
     "text": [
      "Epoch 7/20 - Loss: 1.4751, Accuracy: 0.3395\n"
     ]
    },
    {
     "name": "stderr",
     "output_type": "stream",
     "text": [
      "                                                             \r"
     ]
    },
    {
     "name": "stdout",
     "output_type": "stream",
     "text": [
      "Epoch 8/20 - Loss: 1.4778, Accuracy: 0.3191\n"
     ]
    },
    {
     "name": "stderr",
     "output_type": "stream",
     "text": [
      "                                                             \r"
     ]
    },
    {
     "name": "stdout",
     "output_type": "stream",
     "text": [
      "Epoch 9/20 - Loss: 1.4776, Accuracy: 0.3191\n"
     ]
    },
    {
     "name": "stderr",
     "output_type": "stream",
     "text": [
      "                                                              \r"
     ]
    },
    {
     "name": "stdout",
     "output_type": "stream",
     "text": [
      "Epoch 10/20 - Loss: 1.4747, Accuracy: 0.3247\n"
     ]
    },
    {
     "name": "stderr",
     "output_type": "stream",
     "text": [
      "                                                              \r"
     ]
    },
    {
     "name": "stdout",
     "output_type": "stream",
     "text": [
      "Epoch 11/20 - Loss: 1.4778, Accuracy: 0.3275\n"
     ]
    },
    {
     "name": "stderr",
     "output_type": "stream",
     "text": [
      "                                                              \r"
     ]
    },
    {
     "name": "stdout",
     "output_type": "stream",
     "text": [
      "Epoch 12/20 - Loss: 1.4782, Accuracy: 0.3256\n"
     ]
    },
    {
     "name": "stderr",
     "output_type": "stream",
     "text": [
      "                                                              \r"
     ]
    },
    {
     "name": "stdout",
     "output_type": "stream",
     "text": [
      "Epoch 13/20 - Loss: 1.4743, Accuracy: 0.3293\n"
     ]
    },
    {
     "name": "stderr",
     "output_type": "stream",
     "text": [
      "                                                              \r"
     ]
    },
    {
     "name": "stdout",
     "output_type": "stream",
     "text": [
      "Epoch 14/20 - Loss: 1.4777, Accuracy: 0.3414\n"
     ]
    },
    {
     "name": "stderr",
     "output_type": "stream",
     "text": [
      "                                                              \r"
     ]
    },
    {
     "name": "stdout",
     "output_type": "stream",
     "text": [
      "Epoch 15/20 - Loss: 1.4758, Accuracy: 0.3173\n"
     ]
    },
    {
     "name": "stderr",
     "output_type": "stream",
     "text": [
      "                                                              \r"
     ]
    },
    {
     "name": "stdout",
     "output_type": "stream",
     "text": [
      "Epoch 16/20 - Loss: 1.4741, Accuracy: 0.3173\n"
     ]
    },
    {
     "name": "stderr",
     "output_type": "stream",
     "text": [
      "                                                              \r"
     ]
    },
    {
     "name": "stdout",
     "output_type": "stream",
     "text": [
      "Epoch 17/20 - Loss: 1.4757, Accuracy: 0.3164\n"
     ]
    },
    {
     "name": "stderr",
     "output_type": "stream",
     "text": [
      "                                                              \r"
     ]
    },
    {
     "name": "stdout",
     "output_type": "stream",
     "text": [
      "Epoch 18/20 - Loss: 1.4771, Accuracy: 0.3108\n"
     ]
    },
    {
     "name": "stderr",
     "output_type": "stream",
     "text": [
      "                                                              \r"
     ]
    },
    {
     "name": "stdout",
     "output_type": "stream",
     "text": [
      "Epoch 19/20 - Loss: 1.4761, Accuracy: 0.3238\n"
     ]
    },
    {
     "name": "stderr",
     "output_type": "stream",
     "text": [
      "                                                              \r"
     ]
    },
    {
     "name": "stdout",
     "output_type": "stream",
     "text": [
      "Epoch 20/20 - Loss: 1.4801, Accuracy: 0.3330\n",
      "Training complete.\n"
     ]
    },
    {
     "data": {
      "image/png": "[encoded data removed]",
      "text/plain": [
       "<Figure size 1200x500 with 2 Axes>"
      ]
     },
     "metadata": {},
     "output_type": "display_data"
    },
    {
     "name": "stdout",
     "output_type": "stream",
     "text": [
      "\n",
      "Evaluating the Neural Network...\n"
     ]
    },
    {
     "name": "stderr",
     "output_type": "stream",
     "text": [
      "Evaluating: 100%|██████████| 9/9 [00:00<00:00, 2141.89it/s]\n"
     ]
    },
    {
     "name": "stdout",
     "output_type": "stream",
     "text": [
      "\n",
      "Test Accuracy (NN): 0.3321\n",
      "\n",
      "Classification Report (NN):\n",
      "              precision    recall  f1-score   support\n",
      "\n",
      "          -2       0.00      0.00      0.00        11\n",
      "          -1       0.00      0.00      0.00         3\n",
      "           0       0.00      0.00      0.00        90\n",
      "           1       0.00      0.00      0.00        33\n",
      "           2       0.00      0.00      0.00        44\n",
      "           3       0.33      1.00      0.50        90\n",
      "\n",
      "    accuracy                           0.33       271\n",
      "   macro avg       0.06      0.17      0.08       271\n",
      "weighted avg       0.11      0.33      0.17       271\n",
      "\n",
      "\n",
      "Confusion Matrix (NN):\n",
      "[[ 0  0  0  0  0 11]\n",
      " [ 0  0  0  0  0  3]\n",
      " [ 0  0  0  0  0 90]\n",
      " [ 0  0  0  0  0 33]\n",
      " [ 0  0  1  0  0 43]\n",
      " [ 0  0  0  0  0 90]]\n"
     ]
    },
    {
     "data": {
      "image/png": "[encoded data removed]",
      "text/plain": [
       "<Figure size 800x600 with 2 Axes>"
      ]
     },
     "metadata": {},
     "output_type": "display_data"
    }
   ],
   "source": [
    "import torch\n",
    "import torch.nn as nn\n",
    "import torch.optim as optim\n",
    "from torch.utils.data import DataLoader, TensorDataset\n",
    "import numpy as np\n",
    "from sklearn.model_selection import train_test_split\n",
    "from sklearn.metrics import classification_report, accuracy_score, confusion_matrix\n",
    "from sklearn.preprocessing import LabelEncoder\n",
    "from tqdm.auto import tqdm\n",
    "import matplotlib.pyplot as plt\n",
    "\n",
    "# Ensure df_processed exists from the previous cell\n",
    "if 'df_processed' not in locals():\n",
    "    raise NameError(\"df_processed is not defined. Please run the previous cell to generate it.\")\n",
    "\n",
    "# --- 1. Generate Embeddings using df_processed ---\n",
    "print(\"Generating embeddings for processed sequences...\")\n",
    "embeddings_list_nn = []\n",
    "labels_list_nn = []\n",
    "sequences_list_nn = [] # Keep track of sequences corresponding to embeddings\n",
    "\n",
    "# Use mean pooling embeddings for this task\n",
    "embedding_type_nn = 'mean' # or 'max' or 'concatenate'\n",
    "\n",
    "# Limit the number of sequences for faster testing/debugging if needed\n",
    "# df_subset_nn = df_processed.head(200) # Uncomment for testing\n",
    "df_subset_nn = df_processed\n",
    "\n",
    "# Assuming get_dna_embeddings, model, and tokenizer are defined from earlier cells\n",
    "for index, row in tqdm(df_subset_nn.iterrows(), total=df_subset_nn.shape[0], desc=\"Processing sequences for NN\"):\n",
    "    sequence = row['sequence']\n",
    "    label = row['ContinuousLabel'] # Assuming this is the correct label column\n",
    "\n",
    "    # Ensure sequence is a string and not empty\n",
    "    if not isinstance(sequence, str) or len(sequence) == 0:\n",
    "        print(f\"Skipping row {index}: Invalid sequence '{sequence}'\")\n",
    "        continue\n",
    "\n",
    "    # Ensure label is valid (e.g., not NaN)\n",
    "    if pd.isna(label):\n",
    "        print(f\"Skipping row {index}: Invalid label '{label}'\")\n",
    "        continue\n",
    "\n",
    "    try:\n",
    "        # Assuming get_dna_embeddings returns (emb_mean, emb_max) as PyTorch tensors\n",
    "        emb_mean, emb_max = get_dna_embeddings(sequence, model, tokenizer)\n",
    "\n",
    "        if embedding_type_nn == 'mean':\n",
    "            embedding = emb_mean.cpu().numpy().flatten() # Flatten in case it's not already 1D\n",
    "        elif embedding_type_nn == 'max':\n",
    "            embedding = emb_max.cpu().numpy().flatten()\n",
    "        elif embedding_type_nn == 'concatenate':\n",
    "            embedding = torch.cat((emb_mean, emb_max), dim=1).cpu().numpy().flatten() # Concatenate along feature dim\n",
    "        else:\n",
    "             # Default to mean if type is unknown\n",
    "            embedding = emb_mean.cpu().numpy().flatten()\n",
    "\n",
    "        embeddings_list_nn.append(embedding)\n",
    "        labels_list_nn.append(label)\n",
    "        sequences_list_nn.append(sequence) # Store the sequence itself if needed later\n",
    "\n",
    "    except Exception as e:\n",
    "        print(f\"Error processing sequence at index {index} ('{sequence[:30]}...'): {e}\")\n",
    "        # Optionally skip problematic sequences or handle differently\n",
    "        continue\n",
    "\n",
    "# Convert lists to NumPy arrays\n",
    "X_nn = np.array(embeddings_list_nn)\n",
    "y_nn_original = np.array(labels_list_nn)\n",
    "\n",
    "print(f\"\\nGenerated {X_nn.shape[0]} embeddings of shape {X_nn.shape[1]}.\")\n",
    "print(f\"Corresponding labels shape: {y_nn_original.shape}\")\n",
    "\n",
    "if X_nn.shape[0] == 0:\n",
    "    print(\"No embeddings were generated. Cannot proceed with NN training.\")\n",
    "else:\n",
    "    # --- 2. Prepare Data for PyTorch ---\n",
    "    print(\"\\nPreparing data for PyTorch...\")\n",
    "\n",
    "    # Encode labels to be zero-indexed integers (required for CrossEntropyLoss)\n",
    "    le = LabelEncoder()\n",
    "    y_nn_encoded = le.fit_transform(y_nn_original)\n",
    "    num_classes = len(le.classes_)\n",
    "    print(f\"Original labels: {np.unique(y_nn_original)}\")\n",
    "    print(f\"Encoded labels: {np.unique(y_nn_encoded)}\")\n",
    "    print(f\"Number of classes: {num_classes}\")\n",
    "    print(\"Label mapping:\", dict(zip(le.classes_, le.transform(le.classes_))))\n",
    "\n",
    "\n",
    "    # Split data into training and testing sets\n",
    "    X_train_nn, X_test_nn, y_train_nn, y_test_nn = train_test_split(\n",
    "        X_nn, y_nn_encoded, test_size=0.2, random_state=42, stratify=y_nn_encoded # Stratify helps maintain class distribution\n",
    "    )\n",
    "\n",
    "    print(f\"Data split into training ({X_train_nn.shape[0]} samples) and testing ({X_test_nn.shape[0]} samples).\")\n",
    "\n",
    "    # Convert NumPy arrays to PyTorch tensors\n",
    "    X_train_tensor = torch.tensor(X_train_nn, dtype=torch.float32)\n",
    "    y_train_tensor = torch.tensor(y_train_nn, dtype=torch.long) # Use long for CrossEntropyLoss\n",
    "    X_test_tensor = torch.tensor(X_test_nn, dtype=torch.float32)\n",
    "    y_test_tensor = torch.tensor(y_test_nn, dtype=torch.long)\n",
    "\n",
    "    # Create TensorDatasets and DataLoaders\n",
    "    batch_size = 32\n",
    "    train_dataset = TensorDataset(X_train_tensor, y_train_tensor)\n",
    "    test_dataset = TensorDataset(X_test_tensor, y_test_tensor)\n",
    "    train_loader = DataLoader(train_dataset, batch_size=batch_size, shuffle=True)\n",
    "    test_loader = DataLoader(test_dataset, batch_size=batch_size, shuffle=False)\n",
    "\n",
    "\n",
    "    # --- 3. Define the Neural Network ---\n",
    "    print(\"\\nDefining the Neural Network...\")\n",
    "    input_dim = X_train_nn.shape[1]\n",
    "    hidden_dim = 128 # Example hidden layer size\n",
    "\n",
    "    class SimpleNN(nn.Module):\n",
    "        def __init__(self, input_dim, hidden_dim, output_dim):\n",
    "            super(SimpleNN, self).__init__()\n",
    "            self.fc1 = nn.Linear(input_dim, hidden_dim)\n",
    "            self.relu = nn.ReLU()\n",
    "            self.fc2 = nn.Linear(hidden_dim, output_dim)\n",
    "            # No softmax here, as CrossEntropyLoss includes it\n",
    "\n",
    "        def forward(self, x):\n",
    "            out = self.fc1(x)\n",
    "            out = self.relu(out)\n",
    "            out = self.fc2(out)\n",
    "            return out\n",
    "\n",
    "    nn_model = SimpleNN(input_dim, hidden_dim, num_classes)\n",
    "    print(nn_model)\n",
    "\n",
    "    # Check for GPU availability\n",
    "    device = torch.device(\"cuda\" if torch.cuda.is_available() else \"cpu\")\n",
    "    nn_model.to(device)\n",
    "    print(f\"Using device: {device}\")\n",
    "\n",
    "\n",
    "    # --- 4. Define Loss Function and Optimizer ---\n",
    "    # Consider using class weights if dataset is imbalanced\n",
    "    # Example: calculate weights based on class frequency\n",
    "    # class_counts = np.bincount(y_train_nn)\n",
    "    # class_weights = 1. / torch.tensor(class_counts, dtype=torch.float32)\n",
    "    # class_weights = class_weights / class_weights.sum() * num_classes # Normalize\n",
    "    # criterion = nn.CrossEntropyLoss(weight=class_weights.to(device))\n",
    "    criterion = nn.CrossEntropyLoss() # Standard Cross Entropy Loss\n",
    "    optimizer = optim.Adam(nn_model.parameters(), lr=0.001)\n",
    "\n",
    "\n",
    "    # --- 5. Train the Neural Network ---\n",
    "    print(\"\\nTraining the Neural Network...\")\n",
    "    num_epochs = 20 # Adjust as needed\n",
    "    train_losses = []\n",
    "    train_accuracies = []\n",
    "\n",
    "    for epoch in range(num_epochs):\n",
    "        nn_model.train() # Set model to training mode\n",
    "        running_loss = 0.0\n",
    "        correct_train = 0\n",
    "        total_train = 0\n",
    "\n",
    "        progress_bar = tqdm(train_loader, desc=f\"Epoch {epoch+1}/{num_epochs}\", leave=False)\n",
    "        for inputs, labels in progress_bar:\n",
    "            inputs, labels = inputs.to(device), labels.to(device)\n",
    "\n",
    "            # Zero the parameter gradients\n",
    "            optimizer.zero_grad()\n",
    "\n",
    "            # Forward pass\n",
    "            outputs = nn_model(inputs)\n",
    "            loss = criterion(outputs, labels)\n",
    "\n",
    "            # Backward pass and optimize\n",
    "            loss.backward()\n",
    "            optimizer.step()\n",
    "\n",
    "            # Statistics\n",
    "            running_loss += loss.item() * inputs.size(0)\n",
    "            _, predicted = torch.max(outputs.data, 1)\n",
    "            total_train += labels.size(0)\n",
    "            correct_train += (predicted == labels).sum().item()\n",
    "            progress_bar.set_postfix({'loss': loss.item()})\n",
    "\n",
    "\n",
    "        epoch_loss = running_loss / len(train_loader.dataset)\n",
    "        epoch_acc = correct_train / total_train\n",
    "        train_losses.append(epoch_loss)\n",
    "        train_accuracies.append(epoch_acc)\n",
    "        print(f\"Epoch {epoch+1}/{num_epochs} - Loss: {epoch_loss:.4f}, Accuracy: {epoch_acc:.4f}\")\n",
    "\n",
    "\n",
    "    print(\"Training complete.\")\n",
    "\n",
    "    # Plot training loss and accuracy\n",
    "    plt.figure(figsize=(12, 5))\n",
    "    plt.subplot(1, 2, 1)\n",
    "    plt.plot(range(1, num_epochs + 1), train_losses, label='Training Loss')\n",
    "    plt.xlabel('Epochs')\n",
    "    plt.ylabel('Loss')\n",
    "    plt.title('Training Loss over Epochs')\n",
    "    plt.legend()\n",
    "\n",
    "    plt.subplot(1, 2, 2)\n",
    "    plt.plot(range(1, num_epochs + 1), train_accuracies, label='Training Accuracy')\n",
    "    plt.xlabel('Epochs')\n",
    "    plt.ylabel('Accuracy')\n",
    "    plt.title('Training Accuracy over Epochs')\n",
    "    plt.legend()\n",
    "    plt.tight_layout()\n",
    "    plt.show()\n",
    "\n",
    "\n",
    "    # --- 6. Evaluate the Neural Network ---\n",
    "    print(\"\\nEvaluating the Neural Network...\")\n",
    "    nn_model.eval() # Set model to evaluation mode\n",
    "    y_pred_list = []\n",
    "    y_true_list = []\n",
    "\n",
    "    with torch.no_grad(): # Disable gradient calculations\n",
    "        for inputs, labels in tqdm(test_loader, desc=\"Evaluating\"):\n",
    "            inputs, labels = inputs.to(device), labels.to(device)\n",
    "            outputs = nn_model(inputs)\n",
    "            _, predicted = torch.max(outputs.data, 1)\n",
    "\n",
    "            y_pred_list.extend(predicted.cpu().numpy())\n",
    "            y_true_list.extend(labels.cpu().numpy())\n",
    "\n",
    "    # Convert predictions and true labels back to original labels if needed for interpretation\n",
    "    y_pred_nn = np.array(y_pred_list)\n",
    "    y_test_nn_eval = np.array(y_true_list) # These are already the encoded labels (0, 1, 2...)\n",
    "\n",
    "    # Calculate accuracy\n",
    "    accuracy_nn = accuracy_score(y_test_nn_eval, y_pred_nn)\n",
    "    print(f\"\\nTest Accuracy (NN): {accuracy_nn:.4f}\")\n",
    "\n",
    "    # Print classification report\n",
    "    print(\"\\nClassification Report (NN):\")\n",
    "    # Use encoded labels for report, but provide target names using the label encoder\n",
    "    print(classification_report(y_test_nn_eval, y_pred_nn, target_names=[str(cls) for cls in le.classes_], zero_division=0))\n",
    "\n",
    "    # Print confusion matrix\n",
    "    print(\"\\nConfusion Matrix (NN):\")\n",
    "    # Use encoded labels for matrix, display with original class names as ticks if desired\n",
    "    cm = confusion_matrix(y_test_nn_eval, y_pred_nn, labels=le.transform(le.classes_))\n",
    "    print(cm)\n",
    "\n",
    "    # Optional: Display confusion matrix with labels\n",
    "    try:\n",
    "        import seaborn as sns\n",
    "        plt.figure(figsize=(8, 6))\n",
    "        sns.heatmap(cm, annot=True, fmt='d', cmap='Blues', xticklabels=le.classes_, yticklabels=le.classes_)\n",
    "        plt.xlabel('Predicted Label')\n",
    "        plt.ylabel('True Label')\n",
    "        plt.title('Confusion Matrix (NN)')\n",
    "        plt.show()\n",
    "    except ImportError:\n",
    "        print(\"Seaborn not installed. Skipping heatmap visualization.\")\n",
    "        print(\"Confusion Matrix (row=True, col=Predicted):\")\n",
    "        print(pd.DataFrame(cm, index=le.classes_, columns=le.classes_))\n"
   ]
  },
  {
   "cell_type": "code",
   "execution_count": 11,
   "metadata": {},
   "outputs": [
    {
     "ename": "ImportError",
     "evalue": "cannot import name 'Evo2' from 'evo2' (unknown location)",
     "output_type": "error",
     "traceback": [
      "\u001b[31m---------------------------------------------------------------------------\u001b[39m",
      "\u001b[31mImportError\u001b[39m                               Traceback (most recent call last)",
      "\u001b[36mCell\u001b[39m\u001b[36m \u001b[39m\u001b[32mIn[11]\u001b[39m\u001b[32m, line 15\u001b[39m\n\u001b[32m     12\u001b[39m \u001b[38;5;28;01mimport\u001b[39;00m\u001b[38;5;250m \u001b[39m\u001b[34;01mpandas\u001b[39;00m\u001b[38;5;250m \u001b[39m\u001b[38;5;28;01mas\u001b[39;00m\u001b[38;5;250m \u001b[39m\u001b[34;01mpd\u001b[39;00m \u001b[38;5;66;03m# Make sure pandas is imported\u001b[39;00m\n\u001b[32m     14\u001b[39m \u001b[38;5;66;03m# --- NEW: Import Evo 2 ---\u001b[39;00m\n\u001b[32m---> \u001b[39m\u001b[32m15\u001b[39m \u001b[38;5;28;01mfrom\u001b[39;00m\u001b[38;5;250m \u001b[39m\u001b[34;01mevo2\u001b[39;00m\u001b[38;5;250m \u001b[39m\u001b[38;5;28;01mimport\u001b[39;00m Evo2\n\u001b[32m     17\u001b[39m \u001b[38;5;66;03m# Ensure df_processed exists from the previous cell\u001b[39;00m\n\u001b[32m     18\u001b[39m \n\u001b[32m     19\u001b[39m \u001b[38;5;66;03m# --- NEW: Load Evo 2 Model (outside loop) ---\u001b[39;00m\n\u001b[32m     20\u001b[39m \u001b[38;5;28mprint\u001b[39m(\u001b[33m\"\u001b[39m\u001b[33mLoading Evo 2 model (evo2_7b)...\u001b[39m\u001b[33m\"\u001b[39m)\n",
      "\u001b[31mImportError\u001b[39m: cannot import name 'Evo2' from 'evo2' (unknown location)"
     ]
    }
   ],
   "source": [
    "# Previous imports...\n",
    "import torch\n",
    "import torch.nn as nn\n",
    "import torch.optim as optim\n",
    "from torch.utils.data import DataLoader, TensorDataset\n",
    "import numpy as np\n",
    "from sklearn.model_selection import train_test_split\n",
    "from sklearn.metrics import classification_report, accuracy_score, confusion_matrix\n",
    "from sklearn.preprocessing import LabelEncoder\n",
    "from tqdm.auto import tqdm\n",
    "import matplotlib.pyplot as plt\n",
    "import pandas as pd # Make sure pandas is imported\n",
    "\n",
    "# --- NEW: Import Evo 2 ---\n",
    "from evo2 import Evo2\n",
    "\n",
    "# Ensure df_processed exists from the previous cell\n",
    "\n",
    "# --- NEW: Load Evo 2 Model (outside loop) ---\n",
    "print(\"Loading Evo 2 model (evo2_7b)...\")\n",
    "try:\n",
    "    evo2_model = evo2('evo2_7b')\n",
    "    # Move model to GPU\n",
    "    device = torch.device(\"cuda\" if torch.cuda.is_available() else \"cpu\")\n",
    "    # evo2_model.to(device) # Evo2's internal structure might handle device placement\n",
    "    print(f\"Evo 2 model loaded. Using device: {device}\") # Note: Evo2 might manage its own device placement. Check its behavior.\n",
    "except Exception as e:\n",
    "    print(f\"Error loading Evo 2 model: {e}\")\n",
    "    raise\n",
    "\n",
    "# --- Modified Embedding Generation ---\n",
    "print(\"Generating embeddings using Evo 2...\")\n",
    "embeddings_list_nn = []\n",
    "labels_list_nn = []\n",
    "sequences_list_nn = [] # Keep track of sequences corresponding to embeddings\n",
    "\n",
    "# Use mean pooling embeddings for this task\n",
    "embedding_type_nn = 'mean' # or 'max' or 'concatenate'\n",
    "\n",
    "# Limit the number of sequences for faster testing/debugging if needed\n",
    "# df_subset_nn = df_processed.head(50) # Uncomment for testing\n",
    "df_subset_nn = df_processed\n",
    "\n",
    "# --- NEW: Evo 2 Embedding Loop ---\n",
    "for index, row in tqdm(df_subset_nn.iterrows(), total=df_subset_nn.shape[0], desc=\"Processing sequences with Evo 2\"):\n",
    "    sequence = row['sequence']\n",
    "    label = row['ContinuousLabel'] # Assuming this is the correct label column\n",
    "\n",
    "    # Ensure sequence is a string and not empty\n",
    "    if not isinstance(sequence, str) or len(sequence) == 0:\n",
    "        print(f\"Skipping row {index}: Invalid sequence '{sequence}'\")\n",
    "        continue\n",
    "\n",
    "    # Ensure label is valid (e.g., not NaN)\n",
    "    if pd.isna(label):\n",
    "        print(f\"Skipping row {index}: Invalid label '{label}'\")\n",
    "        continue\n",
    "\n",
    "    try:\n",
    "        # 1. Tokenize using Evo 2's tokenizer\n",
    "        # Ensure input is compatible with the expected device\n",
    "        input_ids = torch.tensor(\n",
    "            evo2_model.tokenizer.tokenize(sequence),\n",
    "            dtype=torch.int,\n",
    "        ).unsqueeze(0).to(device) # Move input tensor to the correct device\n",
    "\n",
    "        # 2. Get Evo 2 embeddings (e.g., from the final layer)\n",
    "        # We might need to specify layer_names=['final_layer'] or similar if default doesn't work\n",
    "        with torch.no_grad():\n",
    "             # Request final layer embeddings (adjust layer name if needed based on Evo2 structure)\n",
    "            # Alternatively, just get outputs and use those if embeddings aren't directly available this way.\n",
    "            # outputs, embeddings_dict = evo2_model(input_ids, return_embeddings=True, layer_names=['final_norm']) # Example using final_norm\n",
    "            outputs, _ = evo2_model(input_ids) # Get logits/hidden states\n",
    "            hidden_states = outputs[0] # Assuming this structure [batch, seq_len, hidden_dim]\n",
    "\n",
    "        # Check sequence length after tokenization (important due to potential truncation)\n",
    "        actual_seq_len = hidden_states.shape[1]\n",
    "        if actual_seq_len < len(sequence) * 0.8: # Heuristic check for significant truncation\n",
    "             print(f\"Warning: Sequence at index {index} potentially truncated. Original length ~{len(sequence)}, Processed length: {actual_seq_len}\")\n",
    "\n",
    "\n",
    "        # 3. Pool the embeddings\n",
    "        # hidden_states shape is likely [1, sequence_length, hidden_size]\n",
    "        if embedding_type_nn == 'mean':\n",
    "             # Mean pool over sequence length dimension (dim=1)\n",
    "            embedding_tensor = torch.mean(hidden_states[0], dim=0)\n",
    "        elif embedding_type_nn == 'max':\n",
    "            embedding_tensor = torch.max(hidden_states[0], dim=0)[0]\n",
    "        else: # Default to mean\n",
    "            embedding_tensor = torch.mean(hidden_states[0], dim=0)\n",
    "\n",
    "        embedding = embedding_tensor.cpu().numpy().flatten() # Move to CPU and flatten\n",
    "\n",
    "        embeddings_list_nn.append(embedding)\n",
    "        labels_list_nn.append(label)\n",
    "        sequences_list_nn.append(sequence) # Store the sequence itself if needed later\n",
    "\n",
    "    except Exception as e:\n",
    "        print(f\"Error processing sequence at index {index} ('{sequence[:30]}...'): {e}\")\n",
    "        # Check for common errors like Out of Memory (OOM)\n",
    "        if \"out of memory\" in str(e).lower():\n",
    "             print(\"CUDA Out of Memory error encountered. Sequence likely too long for GPU VRAM.\")\n",
    "             print(\"Consider using smaller batches, shorter sequences, or a machine with more VRAM.\")\n",
    "             # Optionally break or implement a strategy to handle OOM\n",
    "             # break # Stop processing if OOM occurs\n",
    "        # Optionally skip problematic sequences or handle differently\n",
    "        continue\n",
    "\n",
    "# --- Rest of your code (Prepare data for PyTorch, Define NN, Train, Evaluate) ---\n",
    "# Make sure the subsequent code uses X_nn and y_nn_original generated here\n",
    "\n",
    "# Convert lists to NumPy arrays\n",
    "X_nn = np.array(embeddings_list_nn)\n",
    "y_nn_original = np.array(labels_list_nn)\n",
    "\n",
    "# Add a check if embeddings were generated\n",
    "if X_nn.shape[0] > 0:\n",
    "    print(f\"\\nGenerated {X_nn.shape[0]} embeddings using Evo 2, shape {X_nn.shape}.\")\n",
    "    print(f\"Corresponding labels shape: {y_nn_original.shape}\")\n",
    "\n",
    "    # --- 2. Prepare Data for PyTorch ---\n",
    "    # (Your existing code for LabelEncoding, train/test split, Tensors, DataLoaders)\n",
    "    # ... (rest of the code remains the same) ...\n",
    "\n",
    "else:\n",
    "    print(\"No embeddings were generated with Evo 2. Cannot proceed.\")\n",
    "\n",
    "# (Your existing code for NN definition, training, evaluation)\n",
    "# ..."
   ]
  },
  {
   "cell_type": "code",
   "execution_count": null,
   "metadata": {},
   "outputs": [],
   "source": []
  }
 ],
 "metadata": {
  "kernelspec": {
   "display_name": "dna_env",
   "language": "python",
   "name": "python3"
  },
  "language_info": {
   "codemirror_mode": {
    "name": "ipython",
    "version": 3
   },
   "file_extension": ".py",
   "mimetype": "text/x-python",
   "name": "python",
   "nbconvert_exporter": "python",
   "pygments_lexer": "ipython3",
   "version": "3.12.3"
  }
 },
 "nbformat": 4,
 "nbformat_minor": 2
}
